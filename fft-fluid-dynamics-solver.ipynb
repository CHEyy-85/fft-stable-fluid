{
 "cells": [
  {
   "cell_type": "markdown",
   "metadata": {},
   "source": [
    "Before you turn this problem in, make sure everything runs as expected. First, **restart the kernel** (in the menubar, select Kernel$\\rightarrow$Restart) and then **run all cells** (in the menubar, select Cell$\\rightarrow$Run All).\n",
    "\n",
    "Make sure you fill in any place that says `YOUR CODE HERE` or \"YOUR ANSWER HERE\", as well as any collaborators you worked with:"
   ]
  },
  {
   "cell_type": "code",
   "execution_count": 2,
   "metadata": {},
   "outputs": [],
   "source": [
    "COLLABORATORS = \"Derek Che\", \"Thomas Wang\""
   ]
  },
  {
   "cell_type": "markdown",
   "metadata": {},
   "source": [
    "This is a collaborative final project between Derek Che and Thomas Wang. We collaborated closely on the selection of topics and planning of the actual implementations. Together, we discussed the direction of the project, deciding what functions to implement, why they were needed, and how to implement them at a high level.\n",
    "\n",
    "In terms of actual coding, Derek Che was responsible for the implementation of the DFT-FFT package and its testing, while Thomas Wang was responsible for the implementation of the solver code. We also collaborated on the text portion of the project, with Derek Che explaining everything related to FFT and Thomas Wang focusing on the solver.\n",
    "\n",
    "We worked closely to merge our contributions, ensuring the notebook flows cohesively. Additionally, we collaborated on writing the problem distribution discussions and other shared sections of the notebook to ensure clarity and coherence."
   ]
  },
  {
   "cell_type": "markdown",
   "metadata": {},
   "source": [
    "---"
   ]
  },
  {
   "cell_type": "code",
   "execution_count": 5,
   "metadata": {},
   "outputs": [],
   "source": [
    "# %matplotlib inline\n",
    "# inline will cause problem when closing animation plots\n",
    "%precision 16\n",
    "import numpy\n",
    "import matplotlib.pyplot as plt\n",
    "import pandas as pd"
   ]
  },
  {
   "cell_type": "markdown",
   "metadata": {
    "deletable": false,
    "editable": false,
    "nbgrader": {
     "cell_type": "markdown",
     "checksum": "d32b4bf706b10b4d167573f34b78f1b7",
     "grade": false,
     "grade_id": "cell-c4123d20c3a14019",
     "locked": true,
     "schema_version": 3,
     "solution": false,
     "task": false
    },
    "slideshow": {
     "slide_type": ""
    },
    "tags": []
   },
   "source": [
    "# Final Project\n",
    "- By Derek Che (yc4608) & Thomas Wang (tw3003) for APMA 4300 Introduction to Numerical Methods"
   ]
  },
  {
   "cell_type": "markdown",
   "metadata": {
    "deletable": false,
    "editable": false,
    "nbgrader": {
     "cell_type": "markdown",
     "checksum": "fbc13653b2b30717b82998dc8185d077",
     "grade": false,
     "grade_id": "cell-382e921cda790b91",
     "locked": true,
     "schema_version": 3,
     "solution": false,
     "task": false
    },
    "slideshow": {
     "slide_type": ""
    },
    "tags": []
   },
   "source": [
    "## Abstract [10 pts]"
   ]
  },
  {
   "cell_type": "markdown",
   "metadata": {
    "deletable": false,
    "editable": true,
    "nbgrader": {
     "cell_type": "markdown",
     "checksum": "a13e715b5cd07bdd5e0f62ba3ffd3b70",
     "grade": true,
     "grade_id": "cell-2152ede583bdfd2e",
     "locked": false,
     "points": 10,
     "schema_version": 3,
     "solution": true,
     "task": false
    },
    "slideshow": {
     "slide_type": ""
    },
    "tags": []
   },
   "source": [
    "Simulating the behavior of viscous fluids governed by the Navier-Stokes equations remains a cornerstone challenge in computational physics, and there exists plenty of textbooks and papers illustrating ways to numerically solve them. The complexity of solving these equations lies in their nonlinear nature and the vast computational resources often required for high accuracy. Practical motivation for Navier-Stokes arises from numerous visual effect designers who are looking for animation of intricate turbulences of fluids like smoke and cloud without resorting to the cumbersome single-particle simulation. They are not concerned by the physics of the fluids, and trading some level of physical accuracy for better time complexity and more detailed fluid motion works the best. For us, simulating fluid motions satisfies our curiosity in the creation of visual effect for fluids because we were fascinated by simulation animation of fluids in the context of race car aerodynamics, and we are excited to implement a numerical scheme originated from one encompassing equation and generate our own fluid flow. \n",
    "\n",
    "In this project, we reproduced the elegant 2D Navier-Stokes solver inspired the paper *Stable Fluids* by Jos Stam. We implemented a sequential processing of fluid velocities within a time step, where we also utilized self-implemented Fast Fourier Transform (FFT) functions and enforced periodic boundary conditions. This allowed us to transformed spatial computations into a more tractable Fourier domain, significantly reducing complexity in solver implementation. With specified initial force, we achieved unconditionally stable and visually coherent simulations of viscous flow, capturing intricate particle motion with simplicity in code and robustness in numerical scheme. This project not only reinforces our understanding of the importance of FFT in simplifying modern numerical methods but also highlights its potential for broader applications in computational physics and physics-based simulations. It also shed some lights on the powerful stability of operator splitting method that can be applicable to other computational graphics problems where physics accuracy isn't prioritized."
   ]
  },
  {
   "cell_type": "markdown",
   "metadata": {
    "deletable": false,
    "editable": false,
    "nbgrader": {
     "cell_type": "markdown",
     "checksum": "2a85e6fdaa77e6624fee7a062c4fbae2",
     "grade": false,
     "grade_id": "cell-318b53f4ed873060",
     "locked": true,
     "schema_version": 3,
     "solution": false,
     "task": false
    }
   },
   "source": [
    "## Introduction [15 pts]"
   ]
  },
  {
   "cell_type": "markdown",
   "metadata": {
    "deletable": false,
    "nbgrader": {
     "cell_type": "markdown",
     "checksum": "389f9029792ef9416cb9a4531f47cfa0",
     "grade": true,
     "grade_id": "cell-f3a6a5fa3a14f053",
     "locked": false,
     "points": 13,
     "schema_version": 3,
     "solution": true,
     "task": false
    }
   },
   "source": [
    "As the computing power grows in the past century, it becomes more viable for computational physicists to perform detailed and precise simulation of matter's interaction with fewer approximation here and there. However, single-particle simulation remains to be one of the most formidable barrier since the amount of resources required can be hardly found in common places outside of supercomputer sites and national laboratories. Even for the case of collisionless and incompressible fluid-flow motion of identical particles--a relatively simple physical interaction between matters--this problem still exists, provoking scientists to look for simplifications in modeling that permits acceptable accuracy and time complexity.\n",
    "\n",
    "Looking back at the simplified models proposed by many researchers, it's noticeable that most of them treat such a particle flow as a continuous medium rather than discrete particles. Thus, the **Navier-Stokes** equations, a physical relation for viscous fluid derived from physics laws like momentum balance of Newtonian fluids and conservation of mass, become an ideal description of fluid in Computational Fluid Dynamics:\n",
    "\n",
    "$$\n",
    "\\nabla \\cdot \\mathbf{u} = 0 \\tag{1}\n",
    "$$\n",
    "\n",
    "$$\n",
    "\\frac{\\partial \\mathbf{u}}{\\partial t} = \n",
    "-(\\mathbf{u} \\cdot \\nabla)\\mathbf{u} \n",
    "-\\frac{1}{\\rho} \\nabla p \n",
    "+ \\nu \\nabla^2 \\mathbf{u} \n",
    "+ \\mathbf{f}\\tag{2}\n",
    "$$\n",
    "\n",
    "where $u$ is the velocity field, $p$ is the pressure field, $\\nu$ is the kinematic viscosity, $\\rho$ is the fluid's density, and $f$ is an external force. Nevertheless, it's not so simple to solve the Navier-Stokes equations: there are many numerical schemes with different level of accuracy and stability that solve equation, and understanding what our solution will be used for is essential for making the appropriate decision. \n",
    "\n",
    "For us, the accuracy of physical quantities of the fluid is not of our primary concern; enthusiastic about realistic animation of matter flows, we are more interested in the intricate shape and movement of the particles forming a viscous fluid--the same goal as Jos Stam, who was a researcher at a 3D graphics software company called Alias|wavefront in 1999. In his famous paper titled *Stable Fluids*, he proposed an unconditionally stable solver of Navier-Stokes equations where stability is not influenced by the length of time step. His numerical scheme is also known for its relative simplicity in interpretation and implementation, so we chose to reproduce his solver in 2D space and by enforcing periodic boundary conditions. \n",
    "\n",
    "The reason we assume periodic boundary conditions is that, when solving the Navier-Stokes equations, we can represent the functions as linear combinations of sinusoidal waves. We can then use Fast Fourier Transform (FFT) to significantly reduce implementation difficulty as many linear operations like the gradient or the Laplacian that are used in Stam's solver become diagonal operators in the Fourier domain. Instead of carrying out complicated computations in the spatial domain, we can transform to the Fourier domain, perform the much easier computations, and transform back. Details on the solver and why FFT is an elegant way to implement the solver are provided in the **Implementation** part below. Apart from making our calculations easier, FFT is a cornerstone of modern computational mathematics and engineering, enabling efficient analysis of data across numerous fields such as signal processing, medical imaging, physics simulations, financial modeling, and machine learning. Therefore, we thought understanding and implementing the FFT algorithm itself would be an interesting and meaningful process. \n",
    "\n",
    "Therefore, for the final project, We will implement from scratch the solver and the accompanying Fast Fourier Transform package, and we will visualize the results as a flow of viscous fluid and its constituent particles. For simplicity, we will not implement the evolution of other scalar quantity moving with the fluid and the real-time user interaction. Instead, when running the solver, we will impose an initial force that applies to the evolution for only at its start (e.g., the first second), after which the fluid is left to evolve by itself."
   ]
  },
  {
   "cell_type": "markdown",
   "metadata": {
    "deletable": false,
    "editable": false,
    "nbgrader": {
     "cell_type": "markdown",
     "checksum": "73f86182652b4056f26270c1819c32b4",
     "grade": false,
     "grade_id": "cell-cf3ab00000465969",
     "locked": true,
     "schema_version": 3,
     "solution": false,
     "task": false
    }
   },
   "source": [
    "### References"
   ]
  },
  {
   "cell_type": "markdown",
   "metadata": {
    "deletable": false,
    "editable": true,
    "nbgrader": {
     "cell_type": "markdown",
     "checksum": "0da0870c2fa4c6e72b6e6b9b3485b47e",
     "grade": true,
     "grade_id": "cell-a11d878ca3210c53",
     "locked": false,
     "points": 2,
     "schema_version": 3,
     "solution": true,
     "task": false
    },
    "slideshow": {
     "slide_type": ""
    },
    "tags": []
   },
   "source": [
    "Stam, J. (1999). [*Stable Fluids*](https://www.dgp.toronto.edu/~stam/reality/Research/pdf/ns.pdf). Proceedings of the 26th Annual Conference on Computer Graphics and Interactive Techniques (SIGGRAPH '99), 121–128.\n",
    "\n",
    "Cooley, J. W., & Tukey, J. W. (1965). [*An Algorithm for the Machine Calculation of Complex Fourier Series*](https://web.stanford.edu/class/cme324/classics/cooley-tukey.pdf). Mathematics of Computation, 19(90), 297–301."
   ]
  },
  {
   "cell_type": "markdown",
   "metadata": {
    "deletable": false,
    "editable": false,
    "nbgrader": {
     "cell_type": "markdown",
     "checksum": "1e396f126d4b6f079f26afe85c99d53e",
     "grade": false,
     "grade_id": "cell-a7a4255dfbbc98e4",
     "locked": true,
     "schema_version": 3,
     "solution": false,
     "task": false
    },
    "slideshow": {
     "slide_type": ""
    },
    "tags": []
   },
   "source": [
    "## Computational  Methods [5 pts]"
   ]
  },
  {
   "cell_type": "markdown",
   "metadata": {
    "deletable": false,
    "nbgrader": {
     "cell_type": "markdown",
     "checksum": "ba61017590a5e99d3c35121cfc680136",
     "grade": true,
     "grade_id": "cell-fe71c0040eae7d5d",
     "locked": false,
     "points": 5,
     "schema_version": 3,
     "solution": true,
     "task": false
    }
   },
   "source": [
    "#### 1st Major Computational Method: Fast Fourier Transform (FFT)\n",
    "The FFT is an algorithm that efficiently computes the discrete Fourier transform (DFT) of a sequence, converting data between the time (or spatial) domain and the frequency domain. One important property that we will exploit is that many linear operations like the gradient or the Laplacian become diagonal operators in the Fourier domain, which provides an elegant solution to our solver under periodic boundary conditions. Because of the aforementioned importance of FFT, we decided to implement one on our own, instead of using any pacakge. \n",
    "\n",
    "Here is the proof on the benefits that FFT can provide to our server: \n",
    "\n",
    "Under periodic boundary conditions, a function $\\mathbf{u}(\\mathbf{x})$ can be expressed as \n",
    "$$\n",
    "\\mathbf{u}(\\mathbf{x}) = \\sum_\\mathbf{k} \\hat{\\mathbf{u}}(\\mathbf{k})e^{i \\mathbf{k} \\cdot \\mathbf{x}}, \\quad \\mathbf{k} = \\frac{2 \\pi}{L}\\mathbf{n}\n",
    "$$\n",
    "where $\\hat{\\mathbf{u}}(\\mathbf{k})$ is the Fourier coefficients.\n",
    "1. For gradient operator $\\nabla$:\n",
    "    $$\n",
    "    \\begin{aligned}\n",
    "    \\nabla \\mathbf{u}(\\mathbf{x}) &= \\left(\\frac{\\partial \\mathbf{u}}{\\partial x}, \\frac{\\partial \\mathbf{u}}{\\partial y}, \\frac{\\partial \\mathbf{u}}{\\partial z}\\right) \\\\\n",
    "    &= \\nabla \\left(\\sum_\\mathbf{k} \\hat{\\mathbf{u}}(\\mathbf{k})e^{i \\mathbf{k} \\cdot \\mathbf{x}} \\right) \\\\\n",
    "    &= \\sum_\\mathbf{k} \\hat{\\mathbf{u}}(\\mathbf{k})\\nabla e^{i \\mathbf{k} \\cdot \\mathbf{x}}\\\\\n",
    "    &= \\sum_\\mathbf{k} \\hat{\\mathbf{u}}(\\mathbf{k})\\left(i\\mathbf{k}\\right) e^{i \\mathbf{k} \\cdot \\mathbf{x}} = \\sum_\\mathbf{k} i\\mathbf{k}\\hat{\\mathbf{u}}(\\mathbf{k}) e^{i \\mathbf{k} \\cdot \\mathbf{x}} \n",
    "    \\end{aligned}\n",
    "    $$\n",
    "    Taking the Fourier transform on both sides, we obtain:\n",
    "    $$\n",
    "    \\mathcal{F}\\{(\\nabla\\mathbf{u}(\\mathbf{x}))\\} = i\\mathbf{k}\\hat{\\mathbf{u}}(\\mathbf{k})\n",
    "    $$\n",
    "2. For Laplacian Operator, we can start from the gradient result\n",
    "    $$\n",
    "    \\begin{aligned}\n",
    "    \\nabla \\cdot (\\nabla \\mathbf{u}(\\mathbf{x})) &= \\nabla^2 \\mathbf{u}(\\mathbf{x}) \\\\\n",
    "    \\mathcal{F} \\{\\nabla^2 \\mathbf{u}(\\mathbf{x})\\} &= \\mathcal{F} \\{\\nabla \\cdot (\\nabla \\mathbf{u}(\\mathbf{x}))\\} \\\\\n",
    "    &= \\nabla \\cdot \\mathcal{F} \\{\\nabla \\mathbf{u}(\\mathbf{x})\\} \\\\\n",
    "    &= \\nabla \\cdot (i\\mathbf{k}\\hat{\\mathbf{u}}(\\mathbf{k})) \\\\\n",
    "    &= i\\mathbf{k} \\cdot (i\\mathbf{k}\\hat{\\mathbf{u}}(\\mathbf{k})) \\\\\n",
    "    &= -k^2\\hat{\\mathbf{u}}(\\mathbf{k})\n",
    "    \\end{aligned}\n",
    "    $$\n",
    "    As a result,\n",
    "    $$\n",
    "    \\mathcal{F} \\{\\nabla^2 \\mathbf{u}(\\mathbf{x})\\} = -k^2\\hat{\\mathbf{u}}(\\mathbf{k})\n",
    "    $$\n",
    "Using these results, the diffusion and projection step of our solver as explained in the second half of the **Implementation** section can be calculated more elegantly by first transforming to the Fourier domain. "
   ]
  },
  {
   "cell_type": "markdown",
   "metadata": {},
   "source": [
    "#### 2nd Major Computational Methods: The solver and a 2-dimensional Interpolator\n",
    "\n",
    "The Navier-Stokes equation can be transformed into a single equation explicit in velocity, and the solver utilizes an operator splitting method where the RHS of this equation is seperated into 4 operations (excluding applying FFT and IFFT). Within a time step, each operation acts upon the velocity processed by the previous one or the initial velocity of the time step, which is given as the final velocity of the previous time step.\n",
    "\n",
    "In one of the steps, the Method of Characteristics is utilized, which requires a backtrace of particle positions using the current velocity. Since such velocity field might not have a value at the backtraced positions, a RegularGridInterpolator object with the currenct velocity field as the input field is used to interpolate the velocities at the backtraced positions.\n",
    "\n",
    "For detailed illustrations, please see the second half of the next section."
   ]
  },
  {
   "cell_type": "code",
   "execution_count": 16,
   "metadata": {},
   "outputs": [],
   "source": [
    "# Provide complete installation or import information for external packages or modules here e.g.\n",
    "import numpy\n",
    "from scipy.interpolate import RegularGridInterpolator\n",
    "import matplotlib\n",
    "matplotlib.use('Qt5Agg') # for solver back end animation\n",
    "import matplotlib.pyplot as plt\n",
    "\n",
    "from numpy.testing import assert_allclose # for testing purposes"
   ]
  },
  {
   "cell_type": "markdown",
   "metadata": {
    "deletable": false,
    "editable": false,
    "nbgrader": {
     "cell_type": "markdown",
     "checksum": "330fc22635a3cd0732b5bf73223b75c2",
     "grade": false,
     "grade_id": "cell-501a9781d3f83013",
     "locked": true,
     "schema_version": 3,
     "solution": false,
     "task": false
    },
    "slideshow": {
     "slide_type": ""
    },
    "tags": []
   },
   "source": [
    "## Implementation [60 pts]"
   ]
  },
  {
   "cell_type": "markdown",
   "metadata": {
    "deletable": false,
    "editable": true,
    "nbgrader": {
     "cell_type": "markdown",
     "checksum": "11b06e8b1b9fcac0845c1a031f41bc01",
     "grade": true,
     "grade_id": "cell-31f08d5d85bd9afd",
     "locked": false,
     "points": 60,
     "schema_version": 3,
     "solution": true,
     "task": false
    },
    "slideshow": {
     "slide_type": ""
    },
    "tags": []
   },
   "source": [
    "#### Fast Fourier Transform Implementation"
   ]
  },
  {
   "cell_type": "markdown",
   "metadata": {},
   "source": [
    "We first implement the freq() function which will allow us to know what the computed Fourier coefficients correspond to."
   ]
  },
  {
   "cell_type": "code",
   "execution_count": 20,
   "metadata": {},
   "outputs": [],
   "source": [
    "def freq(n: int, d: float = 1.0) -> numpy.ndarray:\n",
    "    \"\"\"Compute the Discrete Fourier Transform frequencies.\n",
    "\n",
    "    Parameters:\n",
    "    -----------\n",
    "        n (int): \n",
    "            The size of the FFT, which determines the number of frequency bins.\n",
    "            Must be a positive integer. This corresponds to the number of samples \n",
    "            in the input data that will be used in FFT computation.\n",
    "        d (float, optional): \n",
    "            The sampling interval between consecutive points in the input data.\n",
    "            Default to 1.0, which corresponds to frequecies of cycles per sample.\n",
    "            Change to other values when there is temporal meaning in data so that\n",
    "            frequency can be interpreted appropriately (e.g. Hz).\n",
    "            \n",
    "    Returns:\n",
    "    --------\n",
    "        numpy.ndarray: \n",
    "            An array of frequency bins of length `n` that includes both positive and \n",
    "            negative frequencies. \n",
    "    \n",
    "    Notes:\n",
    "    ------\n",
    "        - The first element corresponds to the DC component (0 Hz or 0 cycles/unit).\n",
    "        - The positive frequencies are arranged in increasing order from index 0 to \n",
    "          `n//2`.\n",
    "        - The negative frequencies are arranged in decreasing order from `-n//2` \n",
    "          to -1, following the Nyquist frequency if `n` is even.\n",
    "    \"\"\"\n",
    "    coeff = 1.0 / (n * d)\n",
    "    pos = numpy.arange(0, (n - 1) // 2 + 1, dtype=int)\n",
    "    neg = numpy.arange(-(n // 2), 0, dtype=int)\n",
    "    \n",
    "    return numpy.concatenate((pos, neg)) * coeff"
   ]
  },
  {
   "cell_type": "markdown",
   "metadata": {},
   "source": [
    "We test the function against the `numpy.fft.fftfreq()` function to show the correctness of our implementation."
   ]
  },
  {
   "cell_type": "code",
   "execution_count": 22,
   "metadata": {},
   "outputs": [
    {
     "name": "stdout",
     "output_type": "stream",
     "text": [
      "freq: All test cases passed!\n"
     ]
    }
   ],
   "source": [
    "def test_freq():\n",
    "    # Test case 1: Small FFT size, default d\n",
    "    n = 8\n",
    "    d = 1.0\n",
    "    expected = numpy.fft.fftfreq(n, d)\n",
    "    result = freq(n, d)\n",
    "    assert_allclose(result, expected, atol=1e-6)\n",
    "\n",
    "    # Test case 2: Large FFT size, default d\n",
    "    n = 1024\n",
    "    d = 1.0\n",
    "    expected = numpy.fft.fftfreq(n, d)\n",
    "    result = freq(n, d)\n",
    "    assert_allclose(result, expected, atol=1e-6)\n",
    "\n",
    "    # Test case 3: Small FFT size, non-default d\n",
    "    n = 8\n",
    "    d = 0.1\n",
    "    expected = numpy.fft.fftfreq(n, d)\n",
    "    result = freq(n, d)\n",
    "    assert_allclose(result, expected, atol=1e-6)\n",
    "\n",
    "    # Test case 4: Large FFT size, non-default d\n",
    "    n = 512\n",
    "    d = 0.01\n",
    "    expected = numpy.fft.fftfreq(n, d)\n",
    "    result = freq(n, d)\n",
    "    assert_allclose(result, expected, atol=1e-6)\n",
    "\n",
    "    # Test case 5: Edge case, n=1\n",
    "    n = 1\n",
    "    d = 1.0\n",
    "    expected = numpy.fft.fftfreq(n, d)\n",
    "    result = freq(n, d)\n",
    "    assert_allclose(result, expected, atol=1e-6)\n",
    "\n",
    "    print(\"freq: All test cases passed!\")\n",
    "\n",
    "test_freq()"
   ]
  },
  {
   "cell_type": "markdown",
   "metadata": {},
   "source": [
    "Since FFT is just an efficent way to calculate the Discrete Fourier Transform (DFT), we also implement the naive DFT algorithm, which is based on matrix multiplication, hoping that later we can compare their performance and correctness."
   ]
  },
  {
   "cell_type": "code",
   "execution_count": 24,
   "metadata": {},
   "outputs": [],
   "source": [
    "def _dft(input: numpy.ndarray, axis: int, forward: bool) -> numpy.ndarray:\n",
    "    \"\"\"\n",
    "    Compute the Discrete Fourier Transform (DFT) or its inverse along a specified axis.\n",
    "\n",
    "    This is a helper function that calculates the DFT or inverse DFT based on the `forward` flag.\n",
    "    It uses the matrix multiplication approach to perform the transform.\n",
    "\n",
    "    Parameters:\n",
    "    -----------\n",
    "        input (numpy.ndarray): The input array to be transformed. Can be multi-dimensional.\n",
    "        axis (int): The axis along which to compute the DFT. Default is 0.\n",
    "        forward (bool): If True, computes the forward DFT. If False, computes the inverse DFT.\n",
    "                        Default is True.\n",
    "\n",
    "    Returns:\n",
    "        numpy.ndarray: The transformed array with the same shape as the input.\n",
    "\n",
    "    \"\"\"\n",
    "    # Move the specified axis to the second-to-last axis and expand a singleton dimension at the end\n",
    "    # This is necessary because the @ operator aligns the last axis of the first matrix\n",
    "    # with the second-to-last axis of the second matrix during matrix multiplication.\n",
    "    f = numpy.moveaxis(input, axis, -1)[..., None]  \n",
    "\n",
    "    N = f.shape[-2]\n",
    "\n",
    "    # Construct the DFT matrix\n",
    "    # For forward transform: exp(-2j * pi * k * n / N)\n",
    "    # For inverse transform: exp(+2j * pi * k * n / N)\n",
    "    DFT = numpy.exp(\n",
    "        (-1)**forward * 2j * numpy.pi * numpy.arange(N) * numpy.arange(N)[..., None] / N\n",
    "    )\n",
    "\n",
    "    # Perform the matrix multiplication (DFT @ f) and remove the singleton dimension\n",
    "    # Restore the original axis order after the computation\n",
    "    result = numpy.moveaxis((DFT @ f)[..., -1], -1, axis)\n",
    "\n",
    "    # Normalize by N for the inverse transform\n",
    "    return result if forward else result / N\n",
    "\n",
    "\n",
    "def dft(input: numpy.ndarray, axis: int = -1) -> numpy.ndarray:\n",
    "    \"\"\"\n",
    "    Compute the Discrete Fourier Transform (DFT) along a specified axis, which\n",
    "    converts data from its original domain to the frequency domain.\n",
    "\n",
    "    Parameters:\n",
    "    -----------\n",
    "        input (numpy.ndarray): The input array to be transformed. Can be multi-dimensional.\n",
    "        axis (int): The axis along which to compute the DFT. Default is -1.\n",
    "\n",
    "    Returns:\n",
    "    --------\n",
    "        numpy.ndarray: The transformed array with the same shape as the input.\n",
    "    \"\"\"\n",
    "    return _dft(input, axis, True)\n",
    "\n",
    "\n",
    "def idft(input: numpy.ndarray, axis: int = -1) -> numpy.ndarray:\n",
    "    \"\"\"\n",
    "    Compute the Inverse Discrete Fourier Transform (IDFT) along a specified axis, which\n",
    "    converts data from frequency domain to the origal domain.\n",
    "\n",
    "    Parameters:\n",
    "    -----------\n",
    "        input (numpy.ndarray): The input array to be transformed. Can be multi-dimensional.\n",
    "        axis (int): The axis along which to compute the IDFT. Default is -1.\n",
    "\n",
    "    Returns:\n",
    "    --------\n",
    "        numpy.ndarray: The transformed array with the same shape as the input.\n",
    "    \"\"\"\n",
    "    return _dft(input, axis, False)"
   ]
  },
  {
   "cell_type": "markdown",
   "metadata": {},
   "source": [
    "Now we implement the original Cooley-Tukey algorithm to compute FFT. One small change we make is that use a pre-computed DFT16 matrix and iteraitve bottum up approach instead of an recursive approach. However, the fundamental base-2, divide-and-conquer idea of Cooley-Tukey is unchanged. We will just switch back to naive DFT for input size smaller than 16, and use size 16 solutions and base-2 divide-and-conquer for larger input. In other words, we replace (size $2$ $\\rightarrow$ size $4$ $\\rightarrow$ $\\cdots$ $\\rightarrow$ size $\\rightarrow$ $2^i$) with (size $16$ $\\rightarrow$ size $32$ $\\rightarrow$ $\\cdots$ $\\rightarrow$ size $2^i$) for $i > 16$ for better performance and less function call overheads. More details can be found in the docstring."
   ]
  },
  {
   "cell_type": "code",
   "execution_count": 26,
   "metadata": {},
   "outputs": [],
   "source": [
    "# pre-computed DFT matrix for length of 16\n",
    "DFT_16 = numpy.exp(-2j * numpy.pi * numpy.arange(16) * numpy.arange(16)[:, None] / 16)\n",
    "\n",
    "sizes = [1024 // (2 ** i) for i in range(5, -1, -1)] + [1024 * (2 ** i) for i in range(1, 9)]\n",
    "\n",
    "# pre-computed twiddle factors dictionary\n",
    "TWIDDLE_FACTOR = {\n",
    "    N: numpy.exp(-2j * numpy.pi * numpy.arange(N // 2) / N)\n",
    "    for N in sizes\n",
    "}\n",
    "\n",
    "def _fft(input: numpy.ndarray, axis: int, forward: bool) -> numpy.ndarray:\n",
    "    \"\"\"\n",
    "    Compute the Fast Fourier Transform (FFT) using the Cooley-Tukey algorithm.\n",
    "\n",
    "    This function implements an iterative version of the Cooley-Tukey FFT algorithm,\n",
    "    which is efficient for input sizes that are powers of 2.\n",
    "\n",
    "    Parameters:\n",
    "    -----------\n",
    "    input (numpy.ndarray): The input array to be transformed. Can be multi-dimensional.\n",
    "    axis (int): The axis along which to compute the FFT. Default is -1.\n",
    "    forward (bool): If True, computes the forward FFT. If False, computes the inverse DFT.\n",
    "                    Default is True.\n",
    "\n",
    "    Returns:\n",
    "    --------\n",
    "        numpy.ndarray: The transformed array with the same shape as the input.\n",
    "\n",
    "    Raises:\n",
    "    -------\n",
    "    NotImplementedError\n",
    "        - If the size of the input along the specified axis is not a power of 2.\n",
    "        - If the size of the input is longer than 2^18 (pre-computed twiddle factor's upper limit)\n",
    "\n",
    "    Notes:\n",
    "    ------\n",
    "        - The Cooley-Tukey Algorithm increases computing efficiency by exploiting symmetry of complex number.\n",
    "          As an implementation of the original Cooley-Tukey Algorithm, this does means that only input size of\n",
    "          power of 2 can be handled.\n",
    "        - This implementation uses a base case of N_min = 16, below which it switches\n",
    "          to a direct DFT computation.\n",
    "        - The algorithm uses precomputed twiddle factors for efficiency.\n",
    "        - For inverse FFT (forward=False), the output is scaled by 1/N.\n",
    "    \n",
    "    Main Loop Algorithm Explaination:\n",
    "    ---------------------------------\n",
    "        The Cooley-Tukey algorithm splits the computation of the DFT of size N\n",
    "        into smaller DFTs of even-indexed and odd-indexed elements. This relies on \n",
    "        the following recursive relation:\n",
    "        \n",
    "            X[k] = DFT_N[k] = F_even[k] + W_N^k * F_odd[k]\n",
    "\n",
    "            X[k + N/2] = F_even[k] - W_N^k * F_odd[k]\n",
    "            \n",
    "        Here:\n",
    "        - F_even[k] is the DFT of the even-indexed elements of the input.\n",
    "        - F_odd[k] is the DFT of the odd-indexed elements of the input.\n",
    "        - W_N^k = exp(-2j * pi * k / N) is the twiddle factor for the size-N DFT.\n",
    "        \n",
    "        This recursion halves the problem size at each step, reducing the overall\n",
    "        time complexity from O(N^2) (in naive DFT) to O(N log N).\n",
    "        \n",
    "        In this implementation:\n",
    "        - F_even and F_odd correspond to the blocks in F[..., :F.shape[-1] // 2]\n",
    "        and F[..., F.shape[-1] // 2:] respectively.\n",
    "        - The twiddle factor is precomputed and applied as `factor`.\n",
    "        - The recursion builds up results by combining the even and odd parts \n",
    "        until the entire DFT of size N is constructed.\n",
    "        - A bottom-up iterative approach is chosen over a top-down approach for\n",
    "          performance, but the idea is the same.\n",
    "    \"\"\"\n",
    "\n",
    "    N_min = 16\n",
    "    N = input.shape[axis]\n",
    "    \n",
    "    # use bit-wose operator to check for valid size\n",
    "    if N & (N - 1) != 0:\n",
    "        raise NotImplementedError(\"size of input must be a power of 2 for original Cooley–Tukey\")\n",
    "    elif N >= 2 ** 18:\n",
    "        raise NotImplementedError(\"size of input larger than pre-computed twiddle factor range\")\n",
    "    \n",
    "    # if input length is less than 16, just uses normal DFT\n",
    "    if N <= N_min:\n",
    "        return _dft(input, axis, forward)\n",
    "\n",
    "    # move axis of interest to the last position\n",
    "    f = numpy.moveaxis(input, axis, -1)\n",
    "    \n",
    "    # retrieve correct DFT16 matrix based on whether computation is forward or inverse\n",
    "    DFT16 = DFT_16 if forward else numpy.conjugate(DFT_16)\n",
    "    \n",
    "    # transform data in to blocks of length 16 and apply DFT16\n",
    "    F = DFT16 @ f.reshape((*f.shape[:-1], N_min, -1))\n",
    "    \n",
    "    # reconstruct final results by combining results from problem of smaller size\n",
    "    while F.shape[-2] < N:\n",
    "        F_even = F[..., :F.shape[-1] // 2]\n",
    "        F_odd = F[..., F.shape[-1] // 2:]\n",
    "        \n",
    "        twf = TWIDDLE_FACTOR[2 * F.shape[-2]][..., None]\n",
    "        factor = twf if forward else numpy.conjugate(twf)\n",
    "        F_odd_transformed = factor * F_odd\n",
    "        F = numpy.concatenate((F_even + F_odd_transformed, F_even - F_odd_transformed), axis=-2)\n",
    "    \n",
    "    result = numpy.moveaxis(F[..., -1], -1, axis)\n",
    "    return result if forward else result / N\n",
    "\n",
    "\n",
    "def fft(input: numpy.ndarray, axis: int = -1) -> numpy.ndarray:\n",
    "    \"\"\"\n",
    "    Compute the Fast Fourier Transform (FFT) along a specified axis, which\n",
    "    converts data from its original domain to the frequency domain.\n",
    "\n",
    "    Parameters:\n",
    "    -----------\n",
    "        input (numpy.ndarray): The input array to be transformed. Can be multi-dimensional.\n",
    "        axis (int): The axis along which to compute the FFT. Default is -1.\n",
    "\n",
    "    Returns:\n",
    "    --------\n",
    "        numpy.ndarray: The transformed array with the same shape as the input.\n",
    "    \"\"\"\n",
    "    return _fft(input, axis, True)\n",
    "\n",
    "\n",
    "def ifft(input: numpy.ndarray, axis: int = -1) -> numpy.ndarray:\n",
    "    \"\"\"\n",
    "    Compute the Inverse Fast Fourier Transform (IFFT) along a specified axis, which\n",
    "    converts data from frequency domain to the origal domain.\n",
    "\n",
    "    Parameters:\n",
    "    -----------\n",
    "        input (numpy.ndarray): The input array to be transformed. Can be multi-dimensional.\n",
    "        axis (int): The axis along which to compute the IFFT. Default is -1.\n",
    "\n",
    "    Returns:\n",
    "    --------\n",
    "        numpy.ndarray: The transformed array with the same shape as the input.\n",
    "    \"\"\"\n",
    "    return _fft(input, axis, False)"
   ]
  },
  {
   "cell_type": "markdown",
   "metadata": {},
   "source": [
    "We will test `dft`, `idft`, `fft`, and `ifft` against `numpy.fft.fft` and `numpy.fft.ifft` to compare their accuracy and performance."
   ]
  },
  {
   "cell_type": "code",
   "execution_count": 28,
   "metadata": {},
   "outputs": [
    {
     "name": "stdout",
     "output_type": "stream",
     "text": [
      "All tests passed for FFT/DFT and IFFT/IDFT.\n",
      "\n",
      "Timing comparisons:\n",
      "\n",
      "Custom dft: 854 μs ± 63.9 μs per loop (mean ± std. dev. of 7 runs, 1,000 loops each)\n",
      "Custom fft: 19.4 μs ± 1.17 μs per loop (mean ± std. dev. of 7 runs, 10,000 loops each)\n",
      "NumPy fft: 1.51 μs ± 18.9 ns per loop (mean ± std. dev. of 7 runs, 1,000,000 loops each)\n",
      "\n",
      "Custom idft: 900 μs ± 93.9 μs per loop (mean ± std. dev. of 7 runs, 1,000 loops each)\n",
      "Custom ifft: 22.4 μs ± 135 ns per loop (mean ± std. dev. of 7 runs, 10,000 loops each)\n",
      "NumPy ifft: 1.57 μs ± 14.3 ns per loop (mean ± std. dev. of 7 runs, 1,000,000 loops each)\n"
     ]
    }
   ],
   "source": [
    "def test_fft_and_dft():\n",
    "    \"\"\"Test cases for FFT/DFT and IFFT/IDFT\"\"\"\n",
    "    input_1d = numpy.random.rand(256) + 1j * numpy.random.rand(256)\n",
    "    input_2d = numpy.random.rand(256, 256) + 1j * numpy.random.rand(256, 256)\n",
    "\n",
    "    # Test 1D FFT and DFT\n",
    "    fft_result = fft(input_1d)\n",
    "    numpy_fft_result = numpy.fft.fft(input_1d)\n",
    "    assert_allclose(fft_result, numpy_fft_result, err_msg=\"1D FFT test failed\")\n",
    "\n",
    "    dft_result = dft(input_1d)\n",
    "    assert_allclose(dft_result, numpy_fft_result, err_msg=\"1D DFT test failed\")\n",
    "\n",
    "    # Test 1D IFFT and IDFT\n",
    "    ifft_result = ifft(fft_result)\n",
    "    numpy_ifft_result = numpy.fft.ifft(numpy_fft_result)\n",
    "    assert_allclose(ifft_result, numpy_ifft_result, err_msg=\"1D IFFT test failed\")\n",
    "\n",
    "    idft_result = idft(dft_result)\n",
    "    assert_allclose(idft_result, numpy_ifft_result, err_msg=\"1D IDFT test failed\")\n",
    "\n",
    "    # Test 2D input on specific axis\n",
    "    fft_result_axis_1 = fft(input_2d, axis=1)\n",
    "    numpy_fft_result_axis_1 = numpy.fft.fft(input_2d, axis=1)\n",
    "    assert_allclose(fft_result_axis_1, numpy_fft_result_axis_1, err_msg=\"2D FFT axis=1 test failed\")\n",
    "\n",
    "    dft_result_axis_0 = dft(input_2d, axis=0)\n",
    "    numpy_dft_result_axis_0 = numpy.fft.fft(input_2d, axis=0)\n",
    "    assert_allclose(dft_result_axis_0, numpy_dft_result_axis_0, err_msg=\"2D DFT axis=0 test failed\")\n",
    "\n",
    "    # Test 2D input on specific axis\n",
    "    ifft_result_axis_1 = ifft(fft_result_axis_1, axis=1)\n",
    "    numpy_ifft_result_axis_1 = numpy.fft.ifft(numpy_fft_result_axis_1, axis=1)\n",
    "    assert_allclose(ifft_result_axis_1, numpy_ifft_result_axis_1, err_msg=\"2D IFFT axis=1 test failed\")\n",
    "\n",
    "    idft_result_axis_0 = idft(dft_result_axis_0, axis=0)\n",
    "    numpy_idft_result_axis_0 = numpy.fft.ifft(numpy_dft_result_axis_0, axis=0)\n",
    "    assert_allclose(idft_result_axis_0, numpy_idft_result_axis_0, err_msg=\"2D IDFT axis=0 test failed\")\n",
    "\n",
    "    print(\"All tests passed for FFT/DFT and IFFT/IDFT.\")\n",
    "\n",
    "    print(\"\\nTiming comparisons:\\n\")\n",
    "    print(\"Custom dft: \", end=\"\")\n",
    "    %timeit dft(input_1d)\n",
    "    print(\"Custom fft: \", end=\"\")\n",
    "    %timeit fft(input_1d)\n",
    "    print(\"NumPy fft: \", end=\"\")\n",
    "    %timeit numpy.fft.fft(input_1d)\n",
    "    print(\"\")\n",
    "    print(\"Custom idft: \", end=\"\")\n",
    "    %timeit idft(input_1d)\n",
    "    print(\"Custom ifft: \", end=\"\")\n",
    "    %timeit ifft(input_1d)\n",
    "    print(\"NumPy ifft: \", end=\"\")\n",
    "    %timeit numpy.fft.ifft(input_1d)\n",
    "\n",
    "test_fft_and_dft()"
   ]
  },
  {
   "cell_type": "markdown",
   "metadata": {},
   "source": [
    "Now we implement 2D FFT and its inverse, which will be used in our solver because we are solving the equations on a 2D space. We uses the separability property of 2D Fourier transform and combine it with our 1D FFT and IFFT above."
   ]
  },
  {
   "cell_type": "code",
   "execution_count": 30,
   "metadata": {},
   "outputs": [],
   "source": [
    "def fft2(input: numpy.ndarray, axes: tuple[int] = (-1, -2)):\n",
    "    \"\"\"\n",
    "    Compute the Fast Fourier Transform (FFT) along two specified axes, which\n",
    "    converts data from its original domain to the frequency domain.\n",
    "\n",
    "    Parameters:\n",
    "    -----------\n",
    "        input (numpy.ndarray): The input array to be transformed. Can be multi-dimensional.\n",
    "        axis (tuple[int]): The axes along which to compute the 2D-FFT. Default is (-1, -2).\n",
    "\n",
    "    Returns:\n",
    "    --------\n",
    "        numpy.ndarray: The transformed array with the same shape as the input.\n",
    "    \n",
    "    \n",
    "    \"\"\"\n",
    "    for a in axes:\n",
    "        input = _fft(input, a, True)\n",
    "    return input\n",
    "\n",
    "\n",
    "def ifft2(input: numpy.ndarray, axes: tuple[int] = (-1, -2)):\n",
    "    \"\"\"\n",
    "    Compute the Inverse Fast Fourier Transform (IFFT) along two specified axes, which\n",
    "    converts data from frequency domain to the origal domain.\n",
    "\n",
    "    Parameters:\n",
    "    -----------\n",
    "        input (numpy.ndarray): The input array to be transformed. Can be multi-dimensional.\n",
    "        axis (tuple[int]): The axes along which to compute the 2D-IFFT. Default is (-1, -2).\n",
    "\n",
    "    Returns:\n",
    "    --------\n",
    "        numpy.ndarray: The transformed array with the same shape as the input.\n",
    "    \"\"\"\n",
    "    for a in axes:\n",
    "        input = _fft(input, a, False)\n",
    "    return input "
   ]
  },
  {
   "cell_type": "markdown",
   "metadata": {},
   "source": [
    "We test `fft2` and `ifft2` against `numpy.fft.fft2` and `numpy.fft.ifft2` for accuracy and performance."
   ]
  },
  {
   "cell_type": "code",
   "execution_count": 32,
   "metadata": {},
   "outputs": [
    {
     "name": "stdout",
     "output_type": "stream",
     "text": [
      "All tests passed for FFT2 and IFFT2.\n",
      "\n",
      "Timing comparisons:\n",
      "\n",
      "Custom fft2: 2.66 ms ± 16.8 μs per loop (mean ± std. dev. of 7 runs, 100 loops each)\n",
      "NumPy fft2: 353 μs ± 2.19 μs per loop (mean ± std. dev. of 7 runs, 1,000 loops each)\n",
      "\n",
      "Custom ifft2: 2.65 ms ± 30 μs per loop (mean ± std. dev. of 7 runs, 100 loops each)\n",
      "NumPy ifft2: 377 μs ± 1.36 μs per loop (mean ± std. dev. of 7 runs, 1,000 loops each)\n"
     ]
    }
   ],
   "source": [
    "def test_fft2():\n",
    "    \"\"\"Test cases for 2D FFT and IFFT\"\"\"\n",
    "    input_2d = numpy.random.rand(256, 256) + 1j * numpy.random.rand(256, 256)\n",
    "\n",
    "    # FFT2\n",
    "    fft2_result = fft2(input_2d)\n",
    "    numpy_fft2_result = numpy.fft.fft2(input_2d)\n",
    "    assert_allclose(fft2_result, numpy_fft2_result, err_msg=\"2D FFT2 test failed\")\n",
    "\n",
    "    # FFT2 along different axes\n",
    "    fft2_result_axes_0_1 = fft2(input_2d, axes=(0, 1))\n",
    "    numpy_fft2_result_axes_0_1 = numpy.fft.fft2(input_2d, axes=(0, 1))\n",
    "    assert_allclose(fft2_result_axes_0_1, numpy_fft2_result_axes_0_1, err_msg=\"2D FFT2 axes=(0, 1) test failed\")\n",
    "\n",
    "    # IFFT2\n",
    "    ifft2_result = ifft2(fft2_result, axes=(-1, -2))\n",
    "    numpy_ifft2_result = numpy.fft.ifft2(numpy_fft2_result)\n",
    "    assert_allclose(ifft2_result, numpy_ifft2_result, err_msg=\"2D IFFT2 test failed\")\n",
    "\n",
    "    ifft2_result_axes_0_1 = ifft2(fft2_result_axes_0_1, axes=(0, 1))\n",
    "    numpy_ifft2_result_axes_0_1 = numpy.fft.ifft2(numpy_fft2_result_axes_0_1)\n",
    "    assert_allclose(ifft2_result_axes_0_1, numpy_ifft2_result_axes_0_1, err_msg=\"2D IFFT2 axes=(0, 1) test failed\")\n",
    "\n",
    "    print(\"All tests passed for FFT2 and IFFT2.\")\n",
    "    \n",
    "    print(\"\\nTiming comparisons:\\n\")\n",
    "    print(\"Custom fft2: \", end=\"\")\n",
    "    %timeit fft2(input_2d)\n",
    "    print(\"NumPy fft2: \", end=\"\")\n",
    "    %timeit numpy.fft.fft2(input_2d)\n",
    "    print(\"\")\n",
    "    print(\"Custom ifft2: \", end=\"\")\n",
    "    %timeit ifft2(input_2d)\n",
    "    print(\"NumPy ifft2: \", end=\"\")\n",
    "    %timeit numpy.fft.ifft2(input_2d)\n",
    "\n",
    "test_fft2()"
   ]
  },
  {
   "cell_type": "markdown",
   "metadata": {},
   "source": [
    "#### Solver Analytical Details\n"
   ]
  },
  {
   "cell_type": "markdown",
   "metadata": {},
   "source": [
    "Following Jos Stam's paper, we introduce a method that, given $\\mathbf{u(x}, t)$, evolves $\\mathbf{u(x,} t+\\Delta t)$ by applying the RHS of Navier-Stokes in sequence. The solver itself is not limited to periodic boundary conditions, but since PBCs are our focus, we interweave the FFT and IFFT steps in between the main steps of the solver and show how they speed up the calculations. \n",
    "\n",
    "To obtain a inductive relation solely of $\\mathbf{u}$, let us try to eliminate the $p$ in equation(2) with information from equation(1). Notice a mathematical property that any vector field $w$ can uniquely be decomposed into the form\n",
    "$$\n",
    "\\mathbf{w = u} + \\nabla q\n",
    "$$\n",
    "where $u$ has zero divergence and q is a scalar field. This allows us to defined $\\mathbf{P = w} - \\nabla q$ that projects a vector to its divergence-free part $\\mathbf{u = Pw}$. Notice that $\\mathbf{P}$ is implicitly defined when both sides are taken their divergence:\n",
    "$$\n",
    "\\nabla \\cdot \\mathbf{w} = \\nabla^2 q\n",
    "$$\n",
    "Applying $\\mathbf{P}$ on both side and noticing that $\\mathbf{Pu = u}$ and $\\mathbf{P} \\nabla p = 0$, we arrive at the single equation to according to which $u$ is evolved:\n",
    "$$\n",
    "\\frac{\\partial \\mathbf{u}}{\\partial t} = \\mathbf{P} (\n",
    "-(\\mathbf{u} \\cdot \\nabla)\\mathbf{u} \n",
    "+ \\nu \\nabla^2 \\mathbf{u} \n",
    "+ \\mathbf{f})\\tag{3}\n",
    "$$\n",
    "\n",
    "Now we can apply operator splitting method where we will resolve each term on the RHS step by step as if they act independently within a time step. This step ensures high stability at the expense of physical accuracy. "
   ]
  },
  {
   "cell_type": "markdown",
   "metadata": {},
   "source": [
    "**Add Force**\n",
    "\n",
    "Let $\\mathbf{u(x},t) = \\mathbf{w_{0}}$. \n",
    "The first step is adding a force, which is trivial:\n",
    "$$\n",
    "\\mathbf{w_{1} = w_{0}} + \\Delta t \\mathbf{f(x,t)}\n",
    "$$"
   ]
  },
  {
   "cell_type": "markdown",
   "metadata": {},
   "source": [
    "**Advection**\n",
    "\n",
    "This step deal with the $-(\\mathbf{u} \\cdot \\nabla)\\mathbf{u}$ term which introduces nonlinearity that bothered lots of scientists. Here, the *method of charcteristic* is applied, where the main goal is to look for the *characterstics* of the equation. Derivation is as follows:\n",
    "\n",
    "If we are given the relationship of a scalar field $a\\mathbf{(x},t)$ and a steady vector field $\\mathbf{v(x},t)$ as follows:\n",
    "$$\n",
    "\\frac{\\partial a\\mathbf{(x},t)}{\\partial t} = \n",
    "-\\mathbf{v(x}, t) \\cdot \\nabla a \\mathbf{(x}, t) \n",
    "$$\n",
    "and that at $t = 0$,  $a(\\mathbf{x},0) = a_0(\\mathbf{x})$ is known. We can let $\\mathbf{p}(\\mathbf{x_0},t)$ be the *characteristcs* that flow through $\\mathbf{x_0}$ at $t=0$ and $\\mathbf{x}$ at $t$:\n",
    "$$\n",
    "\\frac{d\\mathbf{p}\\mathbf{(x_{0}},t)}{dt} = \\mathbf{v(p(x_{0}},t)) \\ \\ \\ \\ \\    and \\ \\ \\ \\ \\  \\mathbf{p(x_{0}},0) = \\mathbf{x_{0}} \\ \\ \\ \\ \\ and \\ \\ \\ \\ \\ \\mathbf{p(x_{0}},t) = \\mathbf{x}\n",
    "$$\n",
    "\n",
    "Now, $a\\mathbf{(x},t)$ can be written implicitly in $\\mathbf{x}$ as $a(\\mathbf{p(x_{0}},t),t)$, and notice an important relation:\n",
    "$$\n",
    "\\frac{da\\mathbf{(x},t)}{dt} = \\frac{\\partial a\\mathbf{(x},t)}{\\partial t} + \\frac{\\partial a\\mathbf{(x},t)}{\\partial \\mathbf{p}} \\ \\frac{d\\mathbf{p}\\mathbf{(x_{0}},t)}{dt} = 0\n",
    "$$\n",
    "which indicates that the scalar field remains constant on the characteristics. Its value at $t$ can be traced back to any previous value on the characteristics, i.e.,\n",
    "$$ \n",
    "a\\mathbf{(x},t) = a\\mathbf{(x_{0}},0) =  a_0\\mathbf{(x_{0}})\n",
    "$$\n",
    "where $a_0$ is known.\n",
    "\n",
    "For our case, $a$ is the components of $\\mathbf{u}$, and $\\mathbf{v} = \\mathbf{u}$. This requires us to back track the particles from now to $- \\Delta t$ and uses the $\\mathbf{w_1}$ at that backtracked position as the current velocity $\\mathbf{w_2}$:\n",
    "$$\n",
    "\\mathbf{w_2(x) = w_1(p(x}, - \\Delta t)) \n",
    "$$\n",
    "Where $\\mathbf{p(x}, - \\Delta t) = \\mathbf{p(x)} - \\Delta t \\ \\mathbf{w_{1}}$. Since $\\mathbf{w_{1}}$ might not have a value at the backtraced positions $\\mathbf{p(x}, - \\Delta t)$, a RegularGridInterpolator object with $\\mathbf{w}_{1}$ as the input field is used to interpolate at $\\mathbf{p(x}, - \\Delta t)$."
   ]
  },
  {
   "cell_type": "markdown",
   "metadata": {},
   "source": [
    "**Fast Fourier Transform**\n",
    "\n",
    "We can transform $\\mathbf{w}(\\mathbf{x})$ into the Fourier domain by \n",
    "$$\n",
    "\\hat{\\mathbf{w}}_2 = \\text{FFT}\\{\\mathbf{w}_2(\\mathbf{x})\\}\n",
    "$$"
   ]
  },
  {
   "cell_type": "markdown",
   "metadata": {},
   "source": [
    "**Diffusion**\n",
    "\n",
    "To obtain better stability, Jos Stam proposed to rewrite the diffusion relation\n",
    "$$\n",
    "\\frac{\\partial \\mathbf{w_2}}{\\partial t} = \\nu \\nabla^2 \\mathbf{w_2} \n",
    "$$\n",
    "as an implicit relation\n",
    "$$\n",
    "(\\mathbf{I}- \\nu \\Delta t\\nabla^2 ) \\ \\mathbf{w_3(x)} = \\mathbf{w_2(x)}\n",
    "$$\n",
    "where $\\mathbf{I}$ is the identity operator. \n",
    "\n",
    "Since FFT is appllied to $\\mathbf{w_2(x)}$ before the current step, we have its Fourier transform $\\mathbf{\\hat w_2(k)}$, and the relation is turned into\n",
    "$$\n",
    "(1 + \\nu \\Delta t k^2)\\mathbf{\\hat w_3(k)} = \\mathbf{\\hat w_2(k)}\n",
    "$$"
   ]
  },
  {
   "cell_type": "markdown",
   "metadata": {},
   "source": [
    "**Projection**\n",
    "\n",
    "The projection step uses the implicit definition of the projection operator $\\mathbf{P}$ to derive the scalar $q$, from which we can calculate the divergence-free part of $\\mathbf{ w_3(x)}$:\n",
    "$$\n",
    "\\nabla \\cdot \\mathbf{w_3} = \\nabla^2 q\\ \\ \\ \\ \\ \\text{and} \\ \\ \\ \\ \\ \\mathbf{w_{4} = \\mathbf{P}\\ \\mathbf{w_{3}} = w_{3}} - \\nabla q\n",
    "$$\n",
    "In the Fourier domain, $q$ can be obtained much easier, and we arrive at\n",
    "$$\n",
    "\\mathbf{P}\\mathbf{w_{3}} \\longrightarrow \\widehat{\\mathbf{P}}\\hat{\\mathbf{w}}_3(\\mathbf{k}) = \\hat{\\mathbf{w_{3}}}(\\mathbf{k}) - \\frac{1}{k^2} \\left( \\mathbf{k} \\cdot \\hat{\\mathbf{w_{3}}}(\\mathbf{k}) \\right)\\mathbf{k}\n",
    "$$\n",
    "As a result,\n",
    "$$\n",
    "\\hat{\\mathbf{w}}_4(\\mathbf{k}) = \\widehat{\\mathbf{P}}\\hat{\\mathbf{w}}_3(\\mathbf{k})\n",
    "$$"
   ]
  },
  {
   "cell_type": "markdown",
   "metadata": {},
   "source": [
    "**Inverse Fast Fourier Transform**\n",
    "\n",
    "We can then transform $\\hat{\\mathbf{w}}(\\mathbf{k})$ back to the original domain by\n",
    "$$\n",
    "\\mathbf{w}_4 = \\text{FFT}^{-1}\\{\\hat{\\mathbf{w}}_4(\\mathbf{x})\\}\n",
    "$$\n"
   ]
  },
  {
   "cell_type": "markdown",
   "metadata": {},
   "source": [
    "**Concolusion and Note**\n",
    "\n",
    "The six steps combined is one step for our solver, and we can iterate for as many steps we want with arbitrary time step as the solver is unconditionally stable. \n",
    "\n",
    "Since the FFT is $O(n \\log n)$, the version using FFT is slower than the version without FFT because Jos Stam proved in his paper that the solver is $O(n)$. Nevertheless, the much easier calulations and implementations provided by FFT lead us to pursue it."
   ]
  },
  {
   "cell_type": "markdown",
   "metadata": {},
   "source": [
    "#### Solver Implementation"
   ]
  },
  {
   "cell_type": "markdown",
   "metadata": {},
   "source": [
    "**Apply Forces**\n",
    "\n",
    "The fluid velocity field is influenced by external forces, and in this simplified model, we apply a force field in the x-direction that depends on time and position. The function below updates the velocity filed at the previous time step based on such a force, which only applies in the first second."
   ]
  },
  {
   "cell_type": "code",
   "execution_count": 44,
   "metadata": {},
   "outputs": [],
   "source": [
    "def apply_forces(iteration, velocity_x_prev, force_x, TIME_STEP_LENGTH):\n",
    "    \"\"\"\n",
    "    Applies external forces to the velocity field.\n",
    "    The forcing is time-dependent: it decreases linearly with time until it vanishes when time_current >= 1.\n",
    "\n",
    "    iteration: current iteration step\n",
    "    velocity_x_prev: array of previous velocity field in x-direction\n",
    "    force_x: array of the external force in x-direction\n",
    "    \"\"\"\n",
    "    time_current = iteration * TIME_STEP_LENGTH\n",
    "    pre_factor = max(1 - time_current, 0.0)\n",
    "    velocity_x_prev[:] = velocity_x_prev + TIME_STEP_LENGTH * pre_factor * force_x"
   ]
  },
  {
   "cell_type": "markdown",
   "metadata": {},
   "source": [
    "**Self-Advection by Backtracing and Interpolation**\n",
    "\n",
    "Here we models the fluid’s own movement advecting itself by backtracking and then interpolating velocity at the backtraced positions."
   ]
  },
  {
   "cell_type": "code",
   "execution_count": 46,
   "metadata": {},
   "outputs": [],
   "source": [
    "def backtrace(backtraced_positions, original_positions, direction, TIME_STEP_LENGTH):\n",
    "    \"\"\"\n",
    "    Perform an Euler step backward in time for self-advection and enforce periodic boundary conditions.\n",
    "    \"\"\"\n",
    "    # Euler step backward and wrap positions into [0.0, 1.0)\n",
    "    backtraced_positions[:] = numpy.mod(\n",
    "        original_positions - TIME_STEP_LENGTH * direction,\n",
    "        1.0,\n",
    "    )\n",
    "\n",
    "def interpolate_positions(field_interpolated, field, interval_x, interval_y, query_points_x, query_points_y):\n",
    "    \"\"\"\n",
    "    Interpolate the field at the backtraced positions using linear interpolation.\n",
    "    \"\"\"\n",
    "    # Create a regular grid interpolator\n",
    "    interpolator = RegularGridInterpolator(\n",
    "        (interval_x, interval_y),\n",
    "        field,\n",
    "        method='linear',\n",
    "        bounds_error=False,\n",
    "        fill_value=None\n",
    "    )\n",
    "    # Stack the query points and evaluate the interpolator\n",
    "    points = numpy.stack((query_points_x.flatten(), query_points_y.flatten()), axis=-1)\n",
    "    field_interpolated[:] = interpolator(points).reshape(field_interpolated.shape)\n",
    "\n",
    "def self_advection_step(velocity_x, velocity_y, \n",
    "                        velocity_x_prev, velocity_y_prev, \n",
    "                        coordinates_x, coordinates_y, \n",
    "                        x_interval, y_interval,\n",
    "                        backtraced_coordinates_x, backtraced_coordinates_y, \n",
    "                        TIME_STEP_LENGTH):\n",
    "    \"\"\"\n",
    "    Performs the self-advection step of the fluid:\n",
    "    1. Backtrace the grid to find where fluid parcels came from.\n",
    "    2. Interpolate the velocity field from the previous timestep at these backtraced positions.\n",
    "    \"\"\"\n",
    "\n",
    "    # Backtrace in x and y directions\n",
    "    backtrace(backtraced_coordinates_x, coordinates_x, velocity_x_prev, TIME_STEP_LENGTH)\n",
    "    backtrace(backtraced_coordinates_y, coordinates_y, velocity_y_prev, TIME_STEP_LENGTH)\n",
    "\n",
    "    # Interpolate velocities at the backtraced positions\n",
    "    interpolate_positions(velocity_x, velocity_x_prev, x_interval, y_interval, backtraced_coordinates_x, backtraced_coordinates_y)\n",
    "    interpolate_positions(velocity_y, velocity_y_prev, x_interval, y_interval, backtraced_coordinates_x, backtraced_coordinates_y)\n"
   ]
  },
  {
   "cell_type": "markdown",
   "metadata": {},
   "source": [
    "**Diffusion (In Fourier Domain)**\n",
    "\n",
    "After FFT is applied, the velocity is updated with the implicit method introduced before.\n"
   ]
  },
  {
   "cell_type": "code",
   "execution_count": 48,
   "metadata": {},
   "outputs": [],
   "source": [
    "def diffusion_step(velocity_x_fft, velocity_y_fft, wavenumbers_norm, TIME_STEP_LENGTH, KINEMATIC_VISCOSITY):\n",
    "    \"\"\"\n",
    "    Performs the diffusion step of the fluid.\n",
    "    \"\"\"\n",
    "    velocity_x_fft[:] = velocity_x_fft / (1 + TIME_STEP_LENGTH * KINEMATIC_VISCOSITY * wavenumbers_norm**2)\n",
    "    velocity_y_fft[:] = velocity_y_fft / (1 + TIME_STEP_LENGTH * KINEMATIC_VISCOSITY * wavenumbers_norm**2)"
   ]
  },
  {
   "cell_type": "markdown",
   "metadata": {},
   "source": [
    "**Projection (In Fourier Domain)**\n",
    "\n",
    "Here we project the velocity field onto a divergence-free (incompressible) field. A pseudo-pressure is introduced as an intermediate step. "
   ]
  },
  {
   "cell_type": "code",
   "execution_count": 50,
   "metadata": {},
   "outputs": [],
   "source": [
    "def projection_step(velocity_x_fft, velocity_y_fft, \n",
    "                   normalized_wavenumbers_x, normalized_wavenumbers_y):\n",
    "    \"\"\"\n",
    "    Performs the Projection step of the fluid.\n",
    "    \"\"\"\n",
    "    \n",
    "    # Compute pseudo-pressure in Fourier domain\n",
    "    pressure_fft = (\n",
    "        velocity_x_fft * normalized_wavenumbers_x +\n",
    "        velocity_y_fft * normalized_wavenumbers_y\n",
    "    )\n",
    "\n",
    "    # Project velocities to be incompressible\n",
    "    velocity_x_fft[:] = velocity_x_fft - pressure_fft * normalized_wavenumbers_x\n",
    "    velocity_y_fft[:] = velocity_y_fft - pressure_fft * normalized_wavenumbers_y"
   ]
  },
  {
   "cell_type": "markdown",
   "metadata": {},
   "source": [
    "**Particles Advection**\n",
    "\n",
    "Utility function of interpolating velocities at particle locations and updating particle locations is deinfed here."
   ]
  },
  {
   "cell_type": "code",
   "execution_count": 52,
   "metadata": {},
   "outputs": [],
   "source": [
    "def interpolate_for_particles(field, interval_x, interval_y, particle_x, particle_y):\n",
    "    \"\"\"\n",
    "    Interpolate a 2D field at arbitrary particle positions.\n",
    "    Returns a 1D array corresponding to the field value at each particle.\n",
    "    \"\"\"\n",
    "    interpolator = RegularGridInterpolator(\n",
    "        (interval_x, interval_y),\n",
    "        field,\n",
    "        method='linear',\n",
    "        bounds_error=False,\n",
    "        fill_value=None\n",
    "    )\n",
    "    points = numpy.stack((particle_x, particle_y), axis=-1)\n",
    "    return interpolator(points)\n",
    "\n",
    "def particle_advection(velocity_x, velocity_y,\n",
    "                       x_interval, y_interval,\n",
    "                       particle_x, particle_y,\n",
    "                       TIME_STEP_LENGTH): \n",
    "    \"\"\"\n",
    "    Tracking particle position for visualization.\n",
    "    \"\"\"\n",
    "   # Interpolate velocity at particle locations\n",
    "    particle_vel_x = interpolate_for_particles(velocity_x, x_interval, y_interval, particle_x, particle_y)\n",
    "    particle_vel_y = interpolate_for_particles(velocity_y, x_interval, y_interval, particle_x, particle_y)\n",
    "\n",
    "    # Update particle positions (Euler forward step)\n",
    "    particle_x[:] = particle_x + TIME_STEP_LENGTH * particle_vel_x\n",
    "    particle_y[:] = particle_y + TIME_STEP_LENGTH * particle_vel_y\n",
    "\n",
    "    # Apply periodic boundary conditions\n",
    "    particle_x[:] = particle_x % 1.0\n",
    "    particle_y[:] = particle_y % 1.0"
   ]
  },
  {
   "cell_type": "markdown",
   "metadata": {},
   "source": [
    "#### Runtime Simulation (Please rerun. Animation will be in separate window)"
   ]
  },
  {
   "cell_type": "code",
   "execution_count": 54,
   "metadata": {},
   "outputs": [],
   "source": [
    "# Constants\n",
    "N_POINTS = 256\n",
    "KINEMATIC_VISCOSITY = 0.0001\n",
    "TIME_STEP_LENGTH = 0.007\n",
    "N_TIME_STEPS = 300\n",
    "N_PARTICLES = 2000"
   ]
  },
  {
   "cell_type": "code",
   "execution_count": 55,
   "metadata": {},
   "outputs": [],
   "source": [
    "# Create spatial grid\n",
    "element_length = 1.0 / (N_POINTS - 1)\n",
    "x_interval = numpy.linspace(0.0, 1.0, N_POINTS)\n",
    "y_interval = numpy.linspace(0.0, 1.0, N_POINTS)\n",
    "coordinates_x, coordinates_y = numpy.meshgrid(x_interval, y_interval, indexing='ij')\n",
    "\n",
    "# Compute wavenumbers for Fourier transforms\n",
    "wavenumbers_1d = freq(N_POINTS) * N_POINTS\n",
    "wavenumbers_x, wavenumbers_y = numpy.meshgrid(wavenumbers_1d, wavenumbers_1d, indexing='ij')\n",
    "wavenumbers_norm = numpy.sqrt(wavenumbers_x**2 + wavenumbers_y**2)\n",
    "\n",
    "# Avoid division by zero in normalization\n",
    "wavenumbers_norm[wavenumbers_norm == 0] = 1.0\n",
    "normalized_wavenumbers_x = wavenumbers_x / wavenumbers_norm\n",
    "normalized_wavenumbers_y = wavenumbers_y / wavenumbers_norm\n",
    "\n",
    "# Define the external force field (two opposing Gaussian forces)\n",
    "force_x = 100.0 * (\n",
    "    numpy.exp(- 1.0 / (2 * 0.005) * ((coordinates_x - 0.2)**2 + (coordinates_y - 0.45)**2))\n",
    "    -\n",
    "    numpy.exp(- 1.0 / (2 * 0.005) * ((coordinates_x - 0.8)**2 + (coordinates_y - 0.55)**2))\n",
    ")\n",
    "\n",
    "# Initialize arrays\n",
    "backtraced_coordinates_x = numpy.zeros_like(coordinates_x)\n",
    "backtraced_coordinates_y = numpy.zeros_like(coordinates_y)\n",
    "velocity_x = numpy.zeros_like(coordinates_x)\n",
    "velocity_y = numpy.zeros_like(coordinates_y)\n",
    "velocity_x_prev = numpy.zeros_like(velocity_x)\n",
    "velocity_y_prev = numpy.zeros_like(velocity_y)\n",
    "\n",
    "# For FFT operations, use complex data types\n",
    "velocity_x_fft = numpy.zeros_like(velocity_x, dtype=numpy.complex128)\n",
    "velocity_y_fft = numpy.zeros_like(velocity_y, dtype=numpy.complex128)\n",
    "pressure_fft = numpy.zeros_like(coordinates_x, dtype=numpy.complex128)\n",
    "\n",
    "# Initialize particles\n",
    "# Let's place a number of particles randomly in the domain\n",
    "particle_x = numpy.random.rand(N_PARTICLES)\n",
    "particle_y = numpy.random.rand(N_PARTICLES)\n",
    "\n",
    "plt.figure(figsize=(8, 6))\n",
    "\n",
    "# Time-stepping loop\n",
    "for iter in range(N_TIME_STEPS):\n",
    "    apply_forces(iter,velocity_x_prev,force_x, TIME_STEP_LENGTH)\n",
    "    self_advection_step(velocity_x, velocity_y, \n",
    "                        velocity_x_prev, velocity_y_prev, \n",
    "                        coordinates_x, coordinates_y, \n",
    "                        x_interval, y_interval,\n",
    "                        backtraced_coordinates_x, backtraced_coordinates_y,\n",
    "                        TIME_STEP_LENGTH)\n",
    "    # FFT\n",
    "    velocity_x_fft = fft2(velocity_x)\n",
    "    velocity_y_fft = fft2(velocity_y)\n",
    "    \n",
    "    diffusion_step(velocity_x_fft, velocity_y_fft, wavenumbers_norm, TIME_STEP_LENGTH, KINEMATIC_VISCOSITY)\n",
    "    projection_step(velocity_x_fft, velocity_y_fft, \n",
    "                   normalized_wavenumbers_x, normalized_wavenumbers_y)\n",
    "    \n",
    "    # IFFT\n",
    "    velocity_x = numpy.real(ifft2(velocity_x_fft))\n",
    "    velocity_y = numpy.real(ifft2(velocity_y_fft))\n",
    "\n",
    "    # Update previous velocities for the next iteration\n",
    "    velocity_x_prev[:] = velocity_x\n",
    "    velocity_y_prev[:] = velocity_y\n",
    "\n",
    "    particle_advection(velocity_x, velocity_y,\n",
    "                       x_interval, y_interval,\n",
    "                       particle_x, particle_y,\n",
    "                       TIME_STEP_LENGTH)\n",
    "    \n",
    "    # Visualization of the vorticity (curl of the velocity field)\n",
    "    d_u__d_y = numpy.diff(velocity_x, axis=1)[1:, :]\n",
    "    d_v__d_x = numpy.diff(velocity_y, axis=0)[:, 1:]\n",
    "    curl = d_u__d_y - d_v__d_x\n",
    "\n",
    "    plt.clf()\n",
    "    plt.imshow(\n",
    "        curl.T,\n",
    "        origin='lower',\n",
    "        extent=[0, 1, 0, 1],\n",
    "        cmap='seismic',\n",
    "        aspect='equal'\n",
    "    )\n",
    "    plt.title(f\"Fluid Flow Simulation at Time Step {iter+1}\")\n",
    "    plt.colorbar(label='Vorticity')\n",
    "\n",
    "    # Overlay the particle positions\n",
    "    plt.scatter(particle_x, particle_y, s=2, c='black', alpha=0.7)\n",
    "\n",
    "    plt.pause(0.005)\n",
    "\n",
    "plt.show()"
   ]
  },
  {
   "cell_type": "markdown",
   "metadata": {
    "deletable": false,
    "editable": false,
    "nbgrader": {
     "cell_type": "markdown",
     "checksum": "87d6ad005559ded09934219c910ab7e3",
     "grade": false,
     "grade_id": "cell-8139016f051ab235",
     "locked": true,
     "schema_version": 3,
     "solution": false,
     "task": false
    },
    "slideshow": {
     "slide_type": ""
    },
    "tags": []
   },
   "source": [
    "## Discussion [10 pts]\n"
   ]
  },
  {
   "cell_type": "markdown",
   "metadata": {
    "deletable": false,
    "editable": true,
    "nbgrader": {
     "cell_type": "markdown",
     "checksum": "c9a6bc1bd11c0e30eac1ac25f6ca71bb",
     "grade": true,
     "grade_id": "cell-596162f90cd1e909",
     "locked": false,
     "points": 10,
     "schema_version": 3,
     "solution": true,
     "task": false
    },
    "slideshow": {
     "slide_type": ""
    },
    "tags": []
   },
   "source": [
    "Upon reviewing our simulations, we believe that our project successfully achieved its goals, which is to deliver a stable and visually correct simulation of fluid dynamics. \n",
    "\n",
    "The custom-implemented Fourier Transform functions were rigorously tested against `numpy`'s native functions using `numpy.testing.assert_allclose`, confirming their numerical correctness. Moreover, by carefully following the methodology outlined in Jos Stam's paper, we ensured that our solver maintained the unconditional stability characteristic of Stam's approach with arbitrary time step. \n",
    "\n",
    "We think our implementations of the FFT are also effective and successful in terms of their performance. For input size of 256, our `fft` and `ifft` are 60 to 70 times faster than our own `dft` and `idft` functions. Compared to `numpy`'s highly optimized functions, our implementations are 12 - 13 times slower. Given that `numpy.fft` are implemented in C language, I think our implementation in Python is already decent. For our `fft2` and `ifft2`, our implementation is only 7 - 8 times slower. More importantly, when substituting our `fft2` and `ifft2` into the solver, we did not observe any noticeable slowdown or lag. \n",
    "\n",
    "From the simulation animations, we think the fluid part also worked. The plots depicting fluid flows exhibit the behaviors we anticipated, providing visually intuitive and sensible outcomes. We also tested different initial conditions for the forces applied, and the results were consistent with our expectations, which further validates the effectiveness of the solver on a computer graphics level. However, it is indeed hard to judge how accurate the result is because, as mentioned above and in Jos Stam's paper, this unconditionally stable solver trade accuracy for stability and efficiency. It is not adequate and should not be used for precise engineering and physics endeavors. Yet, on a visual demonstration level, we think it was able to does its job.\n",
    "\n",
    "Looking ahead, there are several directions for further development. One involves enhancing the FFT implementation. Currently, our solver relies on the original Cooley-Tukey algorithm, which restricts length of input to powers of two. Incorporating advanced algorithms that leverage prime factorization and different twiddle factors would enable support for arbitrary grid sizes. On the fluid solver side, an interesting next step would be to introduce rigid bodies into the simulation space, which will let us visualize fluid-object interactions, such as the aerodynamics of vehicles. Although this was mentioned initially in the project proposal, time constraints prevented us from implementing it here. Such an addition would also require modifications to the solver to accommodate for non-periodic boundary conditions.\n",
    "\n",
    "Overall, we think the project not only met its objectives but also gave us a good framework for future improvements in more versatile simulations. We'd love to continue with the implementations on our own. Thank you, Professor Spiegelman, for reading!"
   ]
  }
 ],
 "metadata": {
  "kernelspec": {
   "display_name": "Python 3 (ipykernel)",
   "language": "python",
   "name": "python3"
  },
  "language_info": {
   "codemirror_mode": {
    "name": "ipython",
    "version": 3
   },
   "file_extension": ".py",
   "mimetype": "text/x-python",
   "name": "python",
   "nbconvert_exporter": "python",
   "pygments_lexer": "ipython3",
   "version": "3.12.2"
  },
  "latex_envs": {
   "bibliofile": "biblio.bib",
   "cite_by": "apalike",
   "current_citInitial": 1,
   "eqLabelWithNumbers": true,
   "eqNumInitial": 0
  }
 },
 "nbformat": 4,
 "nbformat_minor": 4
}
